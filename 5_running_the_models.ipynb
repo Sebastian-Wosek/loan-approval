{
 "cells": [
  {
   "cell_type": "markdown",
   "metadata": {},
   "source": [
    "# Initial procedures"
   ]
  },
  {
   "cell_type": "code",
   "execution_count": 16,
   "metadata": {},
   "outputs": [],
   "source": [
    "from pyspark.sql import SparkSession\n",
    "from pyspark.sql.types import StructType, StructField, IntegerType, FloatType\n",
    "from pyspark.ml import feature, classification, evaluation\n",
    "from pyspark.ml.tuning import ParamGridBuilder, CrossValidator\n",
    "\n",
    "train_set_path = \"data/train_set.csv\"\n",
    "test_set_path = \"data/test_set.csv\"\n",
    "entire_set_path = \"data/ready_set.csv\"\n",
    "\n",
    "spark = SparkSession.builder.appName(\"Loan_Approval\").getOrCreate()\n",
    "\n",
    "schema = StructType([\n",
    "    StructField(name=\"person_age\", dataType=FloatType(), nullable=True),\n",
    "    StructField(name=\"person_gender\", dataType=IntegerType(), nullable=True),\n",
    "    StructField(name=\"person_education\", dataType=IntegerType(), nullable=True),\n",
    "    StructField(name=\"person_income\", dataType=FloatType(), nullable=True),\n",
    "    StructField(name=\"person_home_ownership\", dataType=IntegerType(), nullable=True),\n",
    "    StructField(name=\"loan_amnt\", dataType=FloatType(), nullable=True),\n",
    "    StructField(name=\"loan_intent\", dataType=IntegerType(), nullable=True),\n",
    "    StructField(name=\"loan_int_rate\", dataType=FloatType(), nullable=True),\n",
    "    StructField(name=\"loan_percent_income\", dataType=FloatType(), nullable=True),\n",
    "    StructField(name=\"credit_score\", dataType=IntegerType(), nullable=True),\n",
    "    StructField(name=\"previous_loan_defaults_on_file\", dataType=IntegerType(), nullable=True),\n",
    "    StructField(name=\"loan_status\", dataType=IntegerType(), nullable=True),\n",
    "  ])"
   ]
  },
  {
   "cell_type": "code",
   "execution_count": 17,
   "metadata": {},
   "outputs": [
    {
     "name": "stdout",
     "output_type": "stream",
     "text": [
      "+----------+-------------+----------------+-------------+---------------------+---------+-----------+-------------+-------------------+------------+------------------------------+-----------+\n",
      "|person_age|person_gender|person_education|person_income|person_home_ownership|loan_amnt|loan_intent|loan_int_rate|loan_percent_income|credit_score|previous_loan_defaults_on_file|loan_status|\n",
      "+----------+-------------+----------------+-------------+---------------------+---------+-----------+-------------+-------------------+------------+------------------------------+-----------+\n",
      "|      21.0|            0|               1|      24999.0|                    0|   2000.0|          2|        11.01|               0.08|         527|                             1|          0|\n",
      "|      24.0|            1|               2|      99084.0|                    3|  14700.0|          0|         9.63|               0.15|         662|                             0|          0|\n",
      "|      24.0|            1|               1|     121015.0|                    2|  10000.0|          4|        12.87|               0.08|         681|                             1|          0|\n",
      "|      25.0|            0|               2|      49347.0|                    0|   7200.0|          1|         9.88|               0.15|         628|                             1|          0|\n",
      "|      22.0|            1|               3|      81181.0|                    2|   4000.0|          3|         6.76|               0.05|         503|                             1|          0|\n",
      "|      23.0|            1|               2|     152485.0|                    2|   3212.0|          1|        14.78|               0.02|         682|                             0|          0|\n",
      "|      23.0|            1|               0|      42999.0|                    0|   3000.0|          5|        11.51|               0.07|         673|                             0|          0|\n",
      "|      23.0|            1|               3|      47735.0|                    0|   5502.0|          4|         6.03|               0.12|         654|                             0|          1|\n",
      "|      43.0|            1|               3|      79035.0|                    2|  24000.0|          1|        10.99|                0.3|         702|                             0|          0|\n",
      "|      23.0|            0|               3|      72784.0|                    0|   7000.0|          1|         6.01|                0.1|         663|                             0|          0|\n",
      "+----------+-------------+----------------+-------------+---------------------+---------+-----------+-------------+-------------------+------------+------------------------------+-----------+\n",
      "only showing top 10 rows\n",
      "\n"
     ]
    }
   ],
   "source": [
    "df = spark.read.csv(path=entire_set_path, header=True, schema=schema)\n",
    "df_train = spark.read.csv(path=train_set_path, header=True, schema=schema)\n",
    "df_test = spark.read.csv(path=test_set_path, header=True, schema=schema)\n",
    "df_train.show(10)"
   ]
  },
  {
   "cell_type": "markdown",
   "metadata": {},
   "source": [
    "# Standarization"
   ]
  },
  {
   "cell_type": "code",
   "execution_count": 18,
   "metadata": {},
   "outputs": [
    {
     "name": "stdout",
     "output_type": "stream",
     "text": [
      "root\n",
      " |-- loan_status: integer (nullable = true)\n",
      " |-- feat: vector (nullable = true)\n",
      "\n",
      "+-----------+----------------------------------------------------------------------------------------+------------------------------------------------------------------------------------------------------------------------------------------------------------------------------------------------------------+\n",
      "|loan_status|feat                                                                                    |features                                                                                                                                                                                                    |\n",
      "+-----------+----------------------------------------------------------------------------------------+------------------------------------------------------------------------------------------------------------------------------------------------------------------------------------------------------------+\n",
      "|0          |[21.0,0.0,1.0,24999.0,0.0,2000.0,2.0,11.010000228881836,0.07999999821186066,527.0,1.0]  |[3.6716538304251483,0.0,0.9892434543023129,0.4330826668936023,0.0,0.3034288424218392,1.2564689691501527,3.703976485068465,0.8167175883998294,11.137170623122767,2.133709733474061]                          |\n",
      "|0          |[24.0,1.0,2.0,99084.0,3.0,14700.0,0.0,9.630000114440918,0.15000000596046448,662.0,0.0]  |[4.196175806200169,2.0826356383675533,1.9784869086046257,1.716531179906624,3.265866467786247,2.2302019918005183,0.0,3.239717823213735,1.5313455733281232,13.990146019937896,0.0]                            |\n",
      "|0          |[24.0,1.0,1.0,121015.0,2.0,10000.0,4.0,12.869999885559082,0.07999999821186066,681.0,1.0]|[4.196175806200169,2.0826356383675533,0.9892434543023129,2.096463815917808,2.177244311857498,1.517144212109196,2.5129379383003054,4.329716253219916,0.8167175883998294,14.391675890600766,2.133709733474061]|\n",
      "|0          |[25.0,0.0,2.0,49347.0,0.0,7200.0,1.0,9.880000114440918,0.15000000596046448,628.0,1.0]   |[4.371016464791843,0.0,1.9784869086046257,0.8548874100243448,0.0,1.0923438327186212,0.6282344845750764,3.3238226462852203,1.5313455733281232,13.271618882962233,2.133709733474061]                          |\n",
      "|0          |[22.0,1.0,3.0,81181.0,2.0,4000.0,3.0,6.760000228881836,0.05000000074505806,503.0,1.0]   |[3.846494489016822,2.0826356383675533,2.9677303629069387,1.4063796144281584,2.177244311857498,0.6068576848436784,1.884703453725229,2.27419449285322,0.5104485117655819,10.629974997022298,2.133709733474061]|\n",
      "|0          |[23.0,1.0,2.0,152485.0,2.0,3212.0,1.0,14.779999732971191,0.019999999552965164,682.0,0.0]|[4.021335147608496,2.0826356383675533,1.9784869086046257,2.6416500844542163,2.177244311857498,0.4873067209294738,0.6282344845750764,4.972277050152551,0.20417939709995736,14.412809041688286,0.0]           |\n",
      "|0          |[23.0,1.0,0.0,42999.0,0.0,3000.0,5.0,11.510000228881836,0.07000000029802322,673.0,0.0]  |[4.021335147608496,2.0826356383675533,0.0,0.7449146603367337,0.0,0.4551432636327588,3.141172422875382,3.872186131211435,0.7146279088655393,14.22261068190061,0.0]                                           |\n",
      "|1          |[23.0,1.0,3.0,47735.0,0.0,5502.0,4.0,6.03000020980835,0.11999999731779099,654.0,0.0]    |[4.021335147608496,2.0826356383675533,2.9677303629069387,0.8269611226115487,0.0,0.8347327455024797,2.5129379383003054,2.028608403067795,1.2250763825997442,13.82108081123774,0.0]                           |\n",
      "|0          |[43.0,1.0,3.0,79035.0,2.0,24000.0,1.0,10.989999771118164,0.30000001192092896,702.0,0.0] |[7.51814831944197,2.0826356383675533,2.9677303629069387,1.3692023112098828,2.177244311857498,3.6411461090620705,0.6282344845750764,3.6972479452222156,3.0626911466562463,14.835472063438676,0.0]            |\n",
      "|0          |[23.0,0.0,3.0,72784.0,0.0,7000.0,1.0,6.010000228881836,0.10000000149011612,663.0,0.0]   |[4.021335147608496,0.0,2.9677303629069387,1.2609099894869376,0.0,1.0620009484764372,0.6282344845750764,2.021880023638765,1.0208970235311638,14.011279171025416,0.0]                                         |\n",
      "+-----------+----------------------------------------------------------------------------------------+------------------------------------------------------------------------------------------------------------------------------------------------------------------------------------------------------------+\n",
      "only showing top 10 rows\n",
      "\n"
     ]
    }
   ],
   "source": [
    "vect = feature.VectorAssembler(inputCols=df_train.columns[:-1], outputCol=\"feat\")\n",
    "df_train = vect.transform(df_train)\n",
    "df_train = df_train.select(\"loan_status\", \"feat\")\n",
    "df_train.printSchema()\n",
    "\n",
    "\n",
    "scaler = feature.StandardScaler(inputCol=\"feat\", outputCol=\"features\")\n",
    "scaler_t = scaler.fit(df_train)\n",
    "df_train = scaler_t.transform(df_train)\n",
    "\n",
    "df_train.show(n=10, truncate=False)"
   ]
  },
  {
   "cell_type": "markdown",
   "metadata": {},
   "source": [
    "# Random Forest"
   ]
  },
  {
   "cell_type": "code",
   "execution_count": 19,
   "metadata": {},
   "outputs": [
    {
     "name": "stdout",
     "output_type": "stream",
     "text": [
      "+-----------+--------------------+--------------------+--------------------+--------------------+----------+\n",
      "|loan_status|                feat|            features|       rawPrediction|         probability|prediction|\n",
      "+-----------+--------------------+--------------------+--------------------+--------------------+----------+\n",
      "|          0|[21.0,0.0,1.0,249...|[3.67165383042514...|[19.5472901168969...|[0.97736450584484...|       0.0|\n",
      "|          0|[24.0,1.0,2.0,990...|[4.19617580620016...|[15.7877875079139...|[0.78938937539569...|       0.0|\n",
      "|          0|[24.0,1.0,1.0,121...|[4.19617580620016...|          [20.0,0.0]|           [1.0,0.0]|       0.0|\n",
      "|          0|[25.0,0.0,2.0,493...|[4.37101646479184...|[19.6687542675771...|[0.98343771337885...|       0.0|\n",
      "|          0|[22.0,1.0,3.0,811...|[3.84649448901682...|[19.9081209247184...|[0.99540604623592...|       0.0|\n",
      "|          0|[23.0,1.0,2.0,152...|[4.02133514760849...|[6.76045857121904...|[0.33802292856095...|       1.0|\n",
      "|          0|[23.0,1.0,0.0,429...|[4.02133514760849...|[5.85663505974999...|[0.29283175298749...|       1.0|\n",
      "|          1|[23.0,1.0,3.0,477...|[4.02133514760849...|[12.2251680353007...|[0.61125840176503...|       0.0|\n",
      "|          0|[43.0,1.0,3.0,790...|[7.51814831944197...|[12.9508681692082...|[0.64754340846041...|       0.0|\n",
      "|          0|[23.0,0.0,3.0,727...|[4.02133514760849...|[15.5679180061499...|[0.77839590030749...|       0.0|\n",
      "+-----------+--------------------+--------------------+--------------------+--------------------+----------+\n",
      "only showing top 10 rows\n",
      "\n",
      "Random Forest Training Accuracy 0.8989435754647449\n",
      "Random Forest Evaluation Accuracy: 0.8758334568084161\n"
     ]
    }
   ],
   "source": [
    "forest = classification.RandomForestClassifier(labelCol=\"loan_status\", featuresCol=\"features\", maxDepth=8,\n",
    "                                               minInstancesPerNode=4, seed=42)\n",
    "forest_t = forest.fit(df_train)\n",
    "pred_train = forest_t.transform(df_train)\n",
    "pred_train.show(10)\n",
    "\n",
    "# Evaluate the model on training data\n",
    "evaluator = evaluation.MulticlassClassificationEvaluator(labelCol=\"loan_status\", predictionCol=\"prediction\",\n",
    "                                                         metricName=\"accuracy\")\n",
    "accuracy = evaluator.evaluate(pred_train)\n",
    "print(f\"Random Forest Training Accuracy {accuracy}\")\n",
    "\n",
    "# Transform evaluation dataset using the pipeline\n",
    "df_test = vect.transform(df_test)\n",
    "df_test = df_test.select(\"loan_status\", \"feat\")\n",
    "df_test = scaler_t.transform(df_test)\n",
    "\n",
    "\n",
    "# Evaluate the predictions on test data\n",
    "pred_test = forest_t.transform(df_test)\n",
    "eval_accuracy = evaluator.evaluate(pred_test)\n",
    "print(f\"Random Forest Evaluation Accuracy: {eval_accuracy}\")"
   ]
  },
  {
   "cell_type": "markdown",
   "metadata": {},
   "source": [
    "# Hyperparameter tuning for Random Forest"
   ]
  },
  {
   "cell_type": "code",
   "execution_count": 24,
   "metadata": {},
   "outputs": [
    {
     "name": "stdout",
     "output_type": "stream",
     "text": [
      "Number of trees: 50\n",
      "Maximum depth: 10\n",
      "Min instances per node 2\n"
     ]
    }
   ],
   "source": [
    "rf = classification.RandomForestClassifier(labelCol=\"loan_status\", featuresCol=\"features\")\n",
    "\n",
    "# Hyperparameter grid\n",
    "paramGrid = (ParamGridBuilder()\n",
    "             .addGrid(rf.numTrees, [10, 50, 80])\n",
    "             .addGrid(rf.maxDepth, [5, 8, 10])\n",
    "             .addGrid(rf.minInstancesPerNode, [1, 2, 4])\n",
    "             .build())\n",
    "\n",
    "# Evaluator\n",
    "evaluator = evaluation.MulticlassClassificationEvaluator(labelCol=\"loan_status\", predictionCol=\"prediction\", metricName=\"accuracy\")\n",
    "\n",
    "# Cross-validation\n",
    "cv = CrossValidator(estimator=rf,\n",
    "                    estimatorParamMaps=paramGrid,\n",
    "                    evaluator=evaluator,\n",
    "                    numFolds=5)\n",
    "\n",
    "cvModel = cv.fit(df_train)\n",
    "\n",
    "# Best hyperparameters\n",
    "bestModel = cvModel.bestModel\n",
    "print(\"Number of trees:\", bestModel.getNumTrees)\n",
    "print(\"Maximum depth:\", bestModel.getMaxDepth())\n",
    "print(\"Min instances per node\", bestModel.getOrDefault(rf.minInstancesPerNode))"
   ]
  },
  {
   "cell_type": "markdown",
   "metadata": {},
   "source": [
    "Accuracy for training and test data after hyperparameter tuning"
   ]
  },
  {
   "cell_type": "code",
   "execution_count": 27,
   "metadata": {},
   "outputs": [
    {
     "name": "stdout",
     "output_type": "stream",
     "text": [
      "Random Forest Training Accuracy 0.8989435754647449\n",
      "Random Forest Evaluation Accuracy: 0.8758334568084161\n"
     ]
    }
   ],
   "source": [
    "forest = classification.RandomForestClassifier(labelCol=\"loan_status\", featuresCol=\"features\", numTrees=50, maxDepth=10,\n",
    "                                               minInstancesPerNode=2, seed=42)\n",
    "\n",
    "evaluator = evaluation.MulticlassClassificationEvaluator(labelCol=\"loan_status\", predictionCol=\"prediction\",\n",
    "                                                         metricName=\"accuracy\")\n",
    "\n",
    "# Prediction for training data\n",
    "forest_train = forest.fit(df_train)\n",
    "pred_train = forest_t.transform(df_train)\n",
    "\n",
    "accuracy = evaluator.evaluate(pred_train)\n",
    "print(f\"Random Forest Training Accuracy {accuracy}\")\n",
    "\n",
    "# Prediction for test data\n",
    "pred_test = forest_t.transform(df_test)\n",
    "eval_accuracy = evaluator.evaluate(pred_test)\n",
    "print(f\"Random Forest Evaluation Accuracy: {eval_accuracy}\")"
   ]
  }
 ],
 "metadata": {
  "kernelspec": {
   "display_name": "base",
   "language": "python",
   "name": "python3"
  },
  "language_info": {
   "codemirror_mode": {
    "name": "ipython",
    "version": 3
   },
   "file_extension": ".py",
   "mimetype": "text/x-python",
   "name": "python",
   "nbconvert_exporter": "python",
   "pygments_lexer": "ipython3",
   "version": "3.12.4"
  }
 },
 "nbformat": 4,
 "nbformat_minor": 2
}
